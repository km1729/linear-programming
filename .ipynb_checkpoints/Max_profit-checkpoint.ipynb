{
 "cells": [
  {
   "cell_type": "markdown",
   "metadata": {},
   "source": [
    "Example: Chairs and Tables\n",
    "- Giapetto, Inc. manufactures two types of furniture(chair and table) wnats to maximize their weekly profit  \n",
    "- \\$20 profit per chair\n",
    "- \\$30 profit per table\n",
    "- A chair requires 1 hour of finishing labor, 2 hours of carpentry labor  \n",
    "- A table requires 2 hours of finishing labor, 1 hour of carpentry labor  \n",
    "- Each weeek, Giapetto has only 100 finishing hours and 100 carpentry hours available  "
   ]
  },
  {
   "cell_type": "markdown",
   "metadata": {},
   "source": [
    "x1: chair\n",
    "x2: table\n",
    "\n",
    "objective function: max 20x1 + 30x2\n",
    "\n",
    "constraints:  \n",
    "x1 + 2*x2 <= 100  \n",
    "2*x1 + x2 <= 100  \n",
    "\n",
    "nonnegative constraints:\n",
    "x1, x2>= 0"
   ]
  },
  {
   "cell_type": "code",
   "execution_count": 3,
   "metadata": {},
   "outputs": [],
   "source": [
    "from pulp import *"
   ]
  },
  {
   "cell_type": "code",
   "execution_count": 4,
   "metadata": {},
   "outputs": [
    {
     "data": {
      "text/plain": [
       "Giapetto:\n",
       "MAXIMIZE\n",
       "20*x1 + 30*x2 + 0\n",
       "SUBJECT TO\n",
       "_C1: x1 + 2 x2 <= 100\n",
       "\n",
       "_C2: 2 x1 + x2 <= 100\n",
       "\n",
       "VARIABLES\n",
       "x1 Continuous\n",
       "x2 Continuous"
      ]
     },
     "execution_count": 4,
     "metadata": {},
     "output_type": "execute_result"
    }
   ],
   "source": [
    "# Define model\n",
    "prob = LpProblem(\"Giapetto\", LpMaximize)\n",
    "x1 = LpVariable(\"x1\", lowBound=0) #x1 >=0\n",
    "x2 = LpVariable(\"x2\", lowBound=0) #x2 >=0\n",
    "prob += 20*x1 +30*x2 #objective function\n",
    "prob += x1+2*x2<=100 # constraint 1\n",
    "prob +=2*x1+x2<=100 # constraint 2\n",
    "prob"
   ]
  },
  {
   "cell_type": "code",
   "execution_count": 5,
   "metadata": {},
   "outputs": [
    {
     "data": {
      "text/plain": [
       "'Optimal'"
      ]
     },
     "execution_count": 5,
     "metadata": {},
     "output_type": "execute_result"
    }
   ],
   "source": [
    "# Find the solution`\n",
    "status = prob.solve()\n",
    "LpStatus[status]"
   ]
  },
  {
   "cell_type": "code",
   "execution_count": 6,
   "metadata": {},
   "outputs": [
    {
     "data": {
      "text/plain": [
       "(33.333333, 33.333333, 1666.6666500000001)"
      ]
     },
     "execution_count": 6,
     "metadata": {},
     "output_type": "execute_result"
    }
   ],
   "source": [
    "value(x1), value(x2),value(prob.objective)"
   ]
  },
  {
   "cell_type": "markdown",
   "metadata": {},
   "source": [
    "# Integer Linear Programming\n",
    "change the nonnegative constraints to integer type"
   ]
  },
  {
   "cell_type": "code",
   "execution_count": 10,
   "metadata": {},
   "outputs": [
    {
     "data": {
      "text/plain": [
       "Giapetto2:\n",
       "MAXIMIZE\n",
       "20*x1 + 30*x2 + 0\n",
       "SUBJECT TO\n",
       "_C1: x1 + 2 x2 <= 100\n",
       "\n",
       "_C2: 2 x1 + x2 <= 100\n",
       "\n",
       "VARIABLES\n",
       "0 <= x1 Integer\n",
       "0 <= x2 Integer"
      ]
     },
     "execution_count": 10,
     "metadata": {},
     "output_type": "execute_result"
    }
   ],
   "source": [
    "# Define model\n",
    "prob2 = LpProblem(\"Giapetto2\", LpMaximize)\n",
    "x1 = LpVariable(\"x1\", lowBound=0, cat=\"Integer\") #x1 >=0\n",
    "x2 = LpVariable(\"x2\", lowBound=0, cat=\"Integer\") #x2 >=0\n",
    "prob2 += 20*x1 +30*x2 #objective function\n",
    "prob2 += x1+2*x2<=100 # constraint 1\n",
    "prob2 +=2*x1+x2<=100 # constraint 2\n",
    "prob2"
   ]
  },
  {
   "cell_type": "code",
   "execution_count": 12,
   "metadata": {},
   "outputs": [
    {
     "data": {
      "text/plain": [
       "'Optimal'"
      ]
     },
     "execution_count": 12,
     "metadata": {},
     "output_type": "execute_result"
    }
   ],
   "source": [
    "# Find the solution`\n",
    "status = prob2.solve()\n",
    "LpStatus[status]"
   ]
  },
  {
   "cell_type": "code",
   "execution_count": 13,
   "metadata": {},
   "outputs": [
    {
     "data": {
      "text/plain": [
       "(32.0, 34.0, 1660.0)"
      ]
     },
     "execution_count": 13,
     "metadata": {},
     "output_type": "execute_result"
    }
   ],
   "source": [
    "value(x1), value(x2),value(prob2.objective)"
   ]
  },
  {
   "cell_type": "markdown",
   "metadata": {},
   "source": [
    "# Refrences\n",
    "1. Tutorial https://youtu.be/MmazMos4npE\n"
   ]
  }
 ],
 "metadata": {
  "kernelspec": {
   "display_name": "Python 3",
   "language": "python",
   "name": "python3"
  },
  "language_info": {
   "codemirror_mode": {
    "name": "ipython",
    "version": 3
   },
   "file_extension": ".py",
   "mimetype": "text/x-python",
   "name": "python",
   "nbconvert_exporter": "python",
   "pygments_lexer": "ipython3",
   "version": "3.8.5"
  }
 },
 "nbformat": 4,
 "nbformat_minor": 4
}
