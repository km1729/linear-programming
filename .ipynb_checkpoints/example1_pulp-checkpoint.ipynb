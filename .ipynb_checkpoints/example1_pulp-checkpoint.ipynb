{
 "cells": [
  {
   "cell_type": "code",
   "execution_count": 1,
   "id": "51355e69-46d0-401a-b666-890dbea0bb6e",
   "metadata": {},
   "outputs": [
    {
     "name": "stdout",
     "output_type": "stream",
     "text": [
      "Collecting pulp\n",
      "  Downloading PuLP-2.5.0-py3-none-any.whl (41.2 MB)\n",
      "\u001b[K     |████████████████████████████████| 41.2 MB 3.6 MB/s eta 0:00:01\n",
      "\u001b[?25hInstalling collected packages: pulp\n",
      "Successfully installed pulp-2.5.0\n"
     ]
    }
   ],
   "source": [
    "!pip install pulp"
   ]
  },
  {
   "cell_type": "code",
   "execution_count": 4,
   "id": "13611bcc-4ee8-47ef-8adc-0689c961422f",
   "metadata": {},
   "outputs": [],
   "source": [
    "from pulp import *\n",
    "from fractions import Fraction"
   ]
  },
  {
   "attachments": {
    "5791b7a2-8a3f-4bba-9763-53d872267601.png": {
     "image/png": "[encoded data removed]"
    }
   },
   "cell_type": "markdown",
   "id": "314060c5-ff39-4c66-b96b-342e26b1a308",
   "metadata": {},
   "source": [
    "![image.png](attachment:5791b7a2-8a3f-4bba-9763-53d872267601.png)"
   ]
  },
  {
   "cell_type": "markdown",
   "id": "866c814a-b07a-49b8-9dd1-65bf85866baa",
   "metadata": {},
   "source": [
    "# Maximum Problem"
   ]
  },
  {
   "cell_type": "code",
   "execution_count": 23,
   "id": "d61d2f5d-913f-4e0c-909d-5a0972aef1a7",
   "metadata": {},
   "outputs": [
    {
     "name": "stdout",
     "output_type": "stream",
     "text": [
      "status: Optimal\n",
      "All variables:\n",
      "x1 = 2.6666667\n",
      "x2 = 0.66666667\n",
      "max (x1 + x2) = 10/3\n"
     ]
    }
   ],
   "source": [
    "# Maximum problem\n",
    "prob = LpProblem(\"example of standard maximum problem\",LpMaximize)\n",
    "\n",
    "# nonnegativity constrints\n",
    "x1 = LpVariable(\"x1\",0)\n",
    "x2 = LpVariable(\"x2\",0)\n",
    "\n",
    "# objective function\n",
    "prob += x1+x2, \"maximum value of x1 = x2\"\n",
    "\n",
    "# main constraints\n",
    "prob += x1+2*x2 <=4, \"constraint 1\"\n",
    "prob += 4*x1 + 2*x2 <=12, \"constraint 2\"\n",
    "prob += -x1 + x2 <=1, \"constraint 3\"\n",
    "\n",
    "# the problem is solved using pulp's choice of solver\n",
    "prob.solve()\n",
    "\n",
    "#status of the solution\n",
    "print(f\"status: {LpStatus[prob.status]}\")\n",
    "\n",
    "print(\"All variables:\")\n",
    "for v in prob.variables():\n",
    "    print(v.name, \"=\", v.varValue) # # variable & value\n",
    "\n",
    "# maximum value of the objective function\n",
    "print(f\"max (x1 + x2) = {str(Fraction(value(prob.objective)).limit_denominator())}\")"
   ]
  },
  {
   "cell_type": "markdown",
   "id": "6fcba782-7e87-40cb-afad-3d691a0c924d",
   "metadata": {},
   "source": [
    "# Minimum Problem  \n",
    "- multiplying the objective function by -1\n",
    "- multiplying the constraint inequality by -1 and reversing the inequalities"
   ]
  },
  {
   "cell_type": "code",
   "execution_count": 26,
   "id": "84978403-ea6d-42a1-8b42-7ed3cab773b4",
   "metadata": {},
   "outputs": [
    {
     "name": "stdout",
     "output_type": "stream",
     "text": [
      "status: Optimal\n",
      "All variables:\n",
      "x1 = 2.6666667\n",
      "x2 = 0.66666667\n",
      "min (-x1 - x2) = -10/3\n"
     ]
    }
   ],
   "source": [
    "# Minimum problem\n",
    "prob = LpProblem(\"example of standard maximum problem\",LpMinimize)\n",
    "\n",
    "# nonnegativity constrints\n",
    "x1 = LpVariable(\"x1\",0)\n",
    "x2 = LpVariable(\"x2\",0)\n",
    "\n",
    "# objective function\n",
    "prob += -x1 -x2, \"minimum value of -x1 -x2\"\n",
    "\n",
    "# main constraints :*-1 & reversing\n",
    "prob += -x1 -2*x2 >= -4, \"constraint 1\"\n",
    "prob += -4*x1 - 2*x2 >= -12, \"constraint 2\"\n",
    "prob += x1 - x2 >= -1, \"constraint 3\"\n",
    "\n",
    "# the problem is solved using pulp's choice of solver\n",
    "prob.solve()\n",
    "\n",
    "#status of the solution\n",
    "print(f\"status: {LpStatus[prob.status]}\")\n",
    "\n",
    "print(\"All variables:\")\n",
    "for v in prob.variables():\n",
    "    print(v.name, \"=\", v.varValue) # # variable & value\n",
    "\n",
    "# maximum value of the objective function\n",
    "print(f\"min (-x1 - x2) = {str(Fraction(value(prob.objective)).limit_denominator())}\")"
   ]
  },
  {
   "cell_type": "markdown",
   "id": "29253193-f0aa-4ddb-bec3-2f5450f66b74",
   "metadata": {},
   "source": [
    "# References\n",
    "\n",
    "fractions https://stackoverflow.com/questions/13437589/how-is-pythons-fractions-limit-denominator-implemented\n",
    "\n",
    "Access the value of a variable in puLP\n",
    "https://or.stackexchange.com/questions/742/how-do-i-access-the-value-of-a-variable-in-pulp"
   ]
  },
  {
   "cell_type": "code",
   "execution_count": null,
   "id": "68fe7b6d-1910-416c-a5f7-2c8bf2ef18d6",
   "metadata": {},
   "outputs": [],
   "source": []
  }
 ],
 "metadata": {
  "kernelspec": {
   "display_name": "Python 3",
   "language": "python",
   "name": "python3"
  },
  "language_info": {
   "codemirror_mode": {
    "name": "ipython",
    "version": 3
   },
   "file_extension": ".py",
   "mimetype": "text/x-python",
   "name": "python",
   "nbconvert_exporter": "python",
   "pygments_lexer": "ipython3",
   "version": "3.8.8"
  }
 },
 "nbformat": 4,
 "nbformat_minor": 5
}
